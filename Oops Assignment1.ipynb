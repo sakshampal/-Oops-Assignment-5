{
 "cells": [
  {
   "cell_type": "code",
   "execution_count": null,
   "id": "5b03f100-e805-4b80-9d81-0f6344bcfcf0",
   "metadata": {},
   "outputs": [],
   "source": [
    "Q1. Create a vehicle class with an init method having instance variables as name_of_vehicle, max_speed\n",
    "and average_of_vehicle."
   ]
  },
  {
   "cell_type": "code",
   "execution_count": 7,
   "id": "c63526df-95bc-449d-b184-f8ee91b25354",
   "metadata": {},
   "outputs": [],
   "source": [
    "class vehicle :\n",
    "    def __init__(self,name_of_vehicle,max_speed,average_of_vehicle):\n",
    "        self.name_of_vehicle =  name_of_vehicle\n",
    "        self.max_speed = max_speed\n",
    "        self.average_of_vehicle = average_of_vehicle\n",
    "        "
   ]
  },
  {
   "cell_type": "code",
   "execution_count": null,
   "id": "20f99cce-5e03-4a22-8c6f-2daa61ba56c7",
   "metadata": {},
   "outputs": [],
   "source": [
    "Q2. Create a child class car from the vehicle class created in Que 1, which will inherit the vehicle class.\n",
    "Create a method named seating_capacity which takes capacity as an argument and returns the name of\n",
    "the vehicle and its seating capacity."
   ]
  },
  {
   "cell_type": "code",
   "execution_count": null,
   "id": "c44b54c3-2328-45fd-84a3-d77dd44af955",
   "metadata": {},
   "outputs": [],
   "source": [
    "class car(vehicle):\n",
    "    def seating_capacity(self, capacity):\n",
    "        return f\"The{self.name_of_vehicle} has a seating capacity of {capacity}\"\n",
    "    \n",
    "Car = car(\"Toyota\",200,8)\n",
    "print(seating_capacity((5))\n",
    "\n",
    "Output: The Toyota has a seating capacity of 5.\n",
    "        "
   ]
  },
  {
   "cell_type": "code",
   "execution_count": null,
   "id": "7d9c1a02-a1a1-466c-8805-4501c3707d5f",
   "metadata": {},
   "outputs": [],
   "source": [
    "Q3. What is multiple inheritance? Write a python code to demonstrate multiple inheritance."
   ]
  },
  {
   "cell_type": "code",
   "execution_count": null,
   "id": "f483309e-563e-4ae5-a008-420991a8b911",
   "metadata": {},
   "outputs": [],
   "source": [
    "Ans: Multiple inheritance is a feature in object-oriented programming\n",
    "     where a class can inherit attributes and methods from more than one parent class. \n",
    "     In Python, a class can inherit from multiple parent classes by listing them within \n",
    "     parentheses after the class name."
   ]
  },
  {
   "cell_type": "code",
   "execution_count": 14,
   "id": "d0eae37d-4477-49cf-af13-501b05505b31",
   "metadata": {},
   "outputs": [],
   "source": [
    "class exam1():\n",
    "    def test_exam1(self):\n",
    "        return \"this is a method for test_exam1\""
   ]
  },
  {
   "cell_type": "code",
   "execution_count": 15,
   "id": "086ab69e-da1e-4be9-9b83-095e287bb336",
   "metadata": {},
   "outputs": [],
   "source": [
    "class exam2(exam1):\n",
    "    def test_exam2(self):\n",
    "        return \"this is a method for test_exam2\""
   ]
  },
  {
   "cell_type": "code",
   "execution_count": 16,
   "id": "ad3984cf-5d78-4d0e-bdc9-00c30e45fc03",
   "metadata": {},
   "outputs": [],
   "source": [
    "class exam3(exam2):\n",
    "    pass"
   ]
  },
  {
   "cell_type": "code",
   "execution_count": 17,
   "id": "3435ec44-20a9-4104-b0a4-4903c944620e",
   "metadata": {},
   "outputs": [],
   "source": [
    "obj_exam3 = exam3()"
   ]
  },
  {
   "cell_type": "code",
   "execution_count": 19,
   "id": "efa43e85-8e3f-4558-84c3-71b35c80cd25",
   "metadata": {},
   "outputs": [
    {
     "data": {
      "text/plain": [
       "'this is a method for test_exam1'"
      ]
     },
     "execution_count": 19,
     "metadata": {},
     "output_type": "execute_result"
    }
   ],
   "source": [
    "obj_exam3.test_exam1()"
   ]
  },
  {
   "cell_type": "code",
   "execution_count": 20,
   "id": "3d9ca38b-07e0-48a3-9676-978b1dffaaaf",
   "metadata": {},
   "outputs": [
    {
     "data": {
      "text/plain": [
       "'this is a method for test_exam2'"
      ]
     },
     "execution_count": 20,
     "metadata": {},
     "output_type": "execute_result"
    }
   ],
   "source": [
    "obj_exam3.test_exam2()"
   ]
  },
  {
   "cell_type": "code",
   "execution_count": null,
   "id": "a322f74c-4190-43c1-9cb6-13645d004306",
   "metadata": {},
   "outputs": [],
   "source": [
    "Q4. What are getter and setter in python? Create a class and create a getter and a setter method in this\n",
    "class.\n",
    "\n",
    "Ans:  getters and setters are methods used to retrieve and modify the values of class attributes (instance variables). \n",
    "      They provide a controlled way of accessing and modifying the attribute values, allowing for validation, encapsulation, and abstraction.\n",
    "\n",
    "    Getters, also known as accessor methods, are used to retrieve the value of an attribute. \n",
    "    They typically have the prefix \"get_\" followed by the attribute name. \n",
    "     Getters are useful when you want to perform additional logic or validation before returning the attribute value.\n",
    "\n",
    "    Setters, also known as mutator methods, are used to modify the value of an attribute.\n",
    "    They typically have the prefix \"set_\" followed by the attribute name. \n",
    "    Setters allow you to enforce certain rules or validations before setting the attribute value."
   ]
  },
  {
   "cell_type": "code",
   "execution_count": 21,
   "id": "a31ec864-82d5-4e07-be4e-661728b5ae1e",
   "metadata": {},
   "outputs": [
    {
     "name": "stdout",
     "output_type": "stream",
     "text": [
      "Saksham\n"
     ]
    }
   ],
   "source": [
    "class Person:\n",
    "    def __init__(self,name):\n",
    "        self._name = name\n",
    "        \n",
    "    def get_name(self):\n",
    "        return self._name\n",
    "    \n",
    "    def set_name(self,new_name):\n",
    "        if len(new_name) > 0:\n",
    "            self._name = new_name\n",
    "            \n",
    "person = Person(\"Saksham\")\n",
    "print(person.get_name())\n",
    "        "
   ]
  },
  {
   "cell_type": "code",
   "execution_count": 22,
   "id": "9ae0f0e5-8c10-4eb8-a0e6-0d7d9462958c",
   "metadata": {},
   "outputs": [
    {
     "name": "stdout",
     "output_type": "stream",
     "text": [
      "pal\n"
     ]
    }
   ],
   "source": [
    "person.set_name(\"pal\")\n",
    "print(person.get_name())"
   ]
  },
  {
   "cell_type": "code",
   "execution_count": null,
   "id": "5d21f1d7-b1cf-4737-b1da-b019a32a8533",
   "metadata": {},
   "outputs": [],
   "source": [
    "Q5.What is method overriding in python? Write a python code to demonstrate method overriding."
   ]
  },
  {
   "cell_type": "code",
   "execution_count": null,
   "id": "48ac645b-5e22-4f43-a5b3-c305f8d52525",
   "metadata": {},
   "outputs": [],
   "source": [
    "Ans: Method overriding is a concept in object-oriented programming where a child class\n",
    "provides its own implementation of a method that is already defined in its parent class.\n",
    "When a method is overridden, the version defined in the child class is called instead of\n",
    "the parent class's version when the method is invoked on an instance of the child class."
   ]
  },
  {
   "cell_type": "code",
   "execution_count": 23,
   "id": "e8f175e2-07e3-41da-867b-72fc98d2209c",
   "metadata": {},
   "outputs": [],
   "source": [
    "class Animal():\n",
    "    def speak(self):\n",
    "        return \"this animal make a sound\"\n",
    "    \n",
    "class Cat(Animal):\n",
    "    def speak(self):\n",
    "        return \"Meow\"\n",
    "class Dog(Animal):\n",
    "    def speak(self):\n",
    "        return \"Woof\""
   ]
  },
  {
   "cell_type": "code",
   "execution_count": 24,
   "id": "101aa150-15a5-4aa6-b1a5-391f992cb454",
   "metadata": {},
   "outputs": [
    {
     "data": {
      "text/plain": [
       "'this animal make a sound'"
      ]
     },
     "execution_count": 24,
     "metadata": {},
     "output_type": "execute_result"
    }
   ],
   "source": [
    "animal = Animal()\n",
    "animal.speak()"
   ]
  },
  {
   "cell_type": "code",
   "execution_count": 25,
   "id": "c9273575-05d7-459a-9af5-eb20695c80f4",
   "metadata": {},
   "outputs": [
    {
     "data": {
      "text/plain": [
       "'Meow'"
      ]
     },
     "execution_count": 25,
     "metadata": {},
     "output_type": "execute_result"
    }
   ],
   "source": [
    "cat = Cat()\n",
    "cat.speak()"
   ]
  },
  {
   "cell_type": "code",
   "execution_count": 26,
   "id": "d4d91d5c-cd73-4707-bd2b-5b7f47b09619",
   "metadata": {},
   "outputs": [
    {
     "data": {
      "text/plain": [
       "'Woof'"
      ]
     },
     "execution_count": 26,
     "metadata": {},
     "output_type": "execute_result"
    }
   ],
   "source": [
    "dog = Dog()\n",
    "dog.speak()"
   ]
  },
  {
   "cell_type": "code",
   "execution_count": null,
   "id": "2eb33b9a-69ed-4810-b9ca-0b491f080fd0",
   "metadata": {},
   "outputs": [],
   "source": []
  }
 ],
 "metadata": {
  "kernelspec": {
   "display_name": "Python 3 (ipykernel)",
   "language": "python",
   "name": "python3"
  },
  "language_info": {
   "codemirror_mode": {
    "name": "ipython",
    "version": 3
   },
   "file_extension": ".py",
   "mimetype": "text/x-python",
   "name": "python",
   "nbconvert_exporter": "python",
   "pygments_lexer": "ipython3",
   "version": "3.10.8"
  }
 },
 "nbformat": 4,
 "nbformat_minor": 5
}
